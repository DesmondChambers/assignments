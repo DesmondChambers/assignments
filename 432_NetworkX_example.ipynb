{
  "nbformat": 4,
  "nbformat_minor": 0,
  "metadata": {
    "colab": {
      "name": "432-NetworkX-example.ipynb",
      "provenance": [],
      "collapsed_sections": [],
      "authorship_tag": "ABX9TyOk6FPpUfRxChKYYduNSWNC",
      "include_colab_link": true
    },
    "kernelspec": {
      "name": "python3",
      "display_name": "Python 3"
    }
  },
  "cells": [
    {
      "cell_type": "markdown",
      "metadata": {
        "id": "view-in-github",
        "colab_type": "text"
      },
      "source": [
        "<a href=\"https://colab.research.google.com/github/cs432-websci-fall20/assignments/blob/master/432_NetworkX_example.ipynb\" target=\"_parent\"><img src=\"https://colab.research.google.com/assets/colab-badge.svg\" alt=\"Open In Colab\"/></a>"
      ]
    },
    {
      "cell_type": "markdown",
      "metadata": {
        "id": "Ebdk64hsw_b1"
      },
      "source": [
        "# CS 432/532 - NetworkX Example"
      ]
    },
    {
      "cell_type": "markdown",
      "metadata": {
        "id": "eiHHrhEhxS6I"
      },
      "source": [
        "NetworkX: http://networkx.github.com/ \n",
        "\n",
        "Has Karate Club network as a built-in function (`karate_club_graph()`)\n",
        "\n",
        "The example below is from https://networkx.github.io/documentation/stable/auto_examples/graph/plot_karate_club.html"
      ]
    },
    {
      "cell_type": "code",
      "metadata": {
        "id": "-ZFzifre5xaF"
      },
      "source": [
        "import matplotlib.pyplot as plt\n",
        "import networkx as nx"
      ],
      "execution_count": null,
      "outputs": []
    },
    {
      "cell_type": "markdown",
      "metadata": {
        "id": "KAOniWjI50nJ"
      },
      "source": [
        "Generate the Zachary's Karate Club graph as G"
      ]
    },
    {
      "cell_type": "code",
      "metadata": {
        "id": "5A_gLLKi5z4R"
      },
      "source": [
        "G = nx.karate_club_graph()"
      ],
      "execution_count": null,
      "outputs": []
    },
    {
      "cell_type": "markdown",
      "metadata": {
        "id": "TEis4SiY54vg"
      },
      "source": [
        "Print each node and its degree"
      ]
    },
    {
      "cell_type": "code",
      "metadata": {
        "id": "hfOMP1svwuWp"
      },
      "source": [
        "print(\"Node\\tDegree\")\n",
        "for v in G:\n",
        "    print('{}\\t{}'.format(v, G.degree(v)))"
      ],
      "execution_count": null,
      "outputs": []
    },
    {
      "cell_type": "markdown",
      "metadata": {
        "id": "jtp1QXOP58D6"
      },
      "source": [
        "Draw the graph with a circular layout"
      ]
    },
    {
      "cell_type": "code",
      "metadata": {
        "id": "tb0Rgl7R5uSN"
      },
      "source": [
        "nx.draw_circular(G, with_labels=True)\n",
        "# plt.show()   # needed if not in the notebook"
      ],
      "execution_count": null,
      "outputs": []
    },
    {
      "cell_type": "markdown",
      "metadata": {
        "id": "zWj4LQlK6ddc"
      },
      "source": [
        "Delete an edge (between nodes 21 and 1) and redraw"
      ]
    },
    {
      "cell_type": "code",
      "metadata": {
        "id": "VCYdSqHR6cgv"
      },
      "source": [
        "G.remove_edge(21, 1)\n",
        "nx.draw_circular(G, with_labels=True)\n",
        "# plt.show()   # needed if not in the notebook"
      ],
      "execution_count": null,
      "outputs": []
    },
    {
      "cell_type": "markdown",
      "metadata": {
        "id": "gMidANWY7FQ2"
      },
      "source": [
        "Color nodes 0 and 33 (most connected, so those are John and Mr. Hi)\n",
        "\n",
        "*Default color (#1f78b4) for nodes found at https://networkx.github.io/documentation/stable/reference/generated/networkx.drawing.nx_pylab.draw_networkx.html*"
      ]
    },
    {
      "cell_type": "code",
      "metadata": {
        "id": "3iU0F4eO7E02"
      },
      "source": [
        "color = [\"#1f78b4\"] * 34\n",
        "color[0] = \"red\"\n",
        "color[33] = \"green\"\n",
        "nx.draw_circular(G, with_labels=True, node_color=color)\n",
        "# plt.show()   # needed if not in the notebook"
      ],
      "execution_count": null,
      "outputs": []
    },
    {
      "cell_type": "markdown",
      "metadata": {
        "id": "axjeZl9h9nEL"
      },
      "source": [
        "Draw with force-directed layout"
      ]
    },
    {
      "cell_type": "code",
      "metadata": {
        "id": "pZcbGfWT9pF6"
      },
      "source": [
        "nx.draw_kamada_kawai(G, with_labels=True, node_color=color)\n",
        "# plt.show()   # needed if not in the notebook"
      ],
      "execution_count": null,
      "outputs": []
    }
  ]
}