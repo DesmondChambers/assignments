{
  "nbformat": 4,
  "nbformat_minor": 0,
  "metadata": {
    "colab": {
      "name": "432-Week03-InfoVis-Python.ipynb",
      "provenance": [],
      "collapsed_sections": [],
      "toc_visible": true,
      "authorship_tag": "ABX9TyMiDsL/pMrD/jxSxOb6YNFb",
      "include_colab_link": true
    },
    "kernelspec": {
      "name": "python3",
      "display_name": "Python 3"
    }
  },
  "cells": [
    {
      "cell_type": "markdown",
      "metadata": {
        "id": "view-in-github",
        "colab_type": "text"
      },
      "source": [
        "<a href=\"https://colab.research.google.com/github/cs432-websci-fall20/assignments/blob/master/432_Week03_InfoVis_Python.ipynb\" target=\"_parent\"><img src=\"https://colab.research.google.com/assets/colab-badge.svg\" alt=\"Open In Colab\"/></a>"
      ]
    },
    {
      "cell_type": "markdown",
      "metadata": {
        "id": "hdzLxxc9Q4ES",
        "colab_type": "text"
      },
      "source": [
        "# CS 432/532 InfoVis with Python Tutorial"
      ]
    },
    {
      "cell_type": "markdown",
      "metadata": {
        "id": "YfatT9E1l-b7",
        "colab_type": "text"
      },
      "source": [
        "We're going to use [Seaborn](https://seaborn.pydata.org/), which is a high-level interface to the popular [Matplotlib](https://matplotlib.org/).  We'll also be using [Pandas](https://pandas.pydata.org/) to read in data from a CSV file to a a dataframe (aka table) and manipulate the data.\n",
        "\n",
        "The goal is to produce plots similar to those from the InfoVis in R tutorial. So first, upload the `midwest.csv` and `economics.csv` datasets that were created in the R tutorial to your notebook.\n"
      ]
    },
    {
      "cell_type": "code",
      "metadata": {
        "id": "IZeTiREWlOLy",
        "colab_type": "code",
        "colab": {}
      },
      "source": [
        "import matplotlib.pyplot as plt  # will need some Matplotlib functions\n",
        "import seaborn as sns\n",
        "import pandas as pd              # will use Pandas for data manipulation\n",
        "sns.set_style(\"whitegrid\");   # use white grid as default"
      ],
      "execution_count": null,
      "outputs": []
    },
    {
      "cell_type": "code",
      "metadata": {
        "id": "wpTt3spyo6u6",
        "colab_type": "code",
        "colab": {}
      },
      "source": [
        "midwest = pd.read_csv('midwest.csv')\n",
        "midwest.head()"
      ],
      "execution_count": null,
      "outputs": []
    },
    {
      "cell_type": "markdown",
      "metadata": {
        "id": "eFMaXjzw5NMk",
        "colab_type": "text"
      },
      "source": [
        "Read in the \"date\" column as a date.\n",
        "\n",
        "ref: https://www.earthdatascience.org/courses/use-data-open-source-python/use-time-series-data-in-python/date-time-types-in-pandas-python/"
      ]
    },
    {
      "cell_type": "code",
      "metadata": {
        "id": "wJwbK7t8oysx",
        "colab_type": "code",
        "colab": {}
      },
      "source": [
        "economics = pd.read_csv('economics.csv', parse_dates = ['date'])\n",
        "economics.head()"
      ],
      "execution_count": null,
      "outputs": []
    },
    {
      "cell_type": "markdown",
      "metadata": {
        "id": "-JFudREYr9dO",
        "colab_type": "text"
      },
      "source": [
        "## Things to Note\n",
        "\n",
        "* If you're running these in a script, you'll need to include `plt.show()` at the end to actually draw the plot.  We don't need this line in the notebook.\n",
        "\n",
        "* In Seaborn, you may need to note if the chart function returns a `FacetGrid` object or an `Axes` object.  I've tried to use the variable `g` for `FacetGrid` and `ax` for `Axes`."
      ]
    },
    {
      "cell_type": "markdown",
      "metadata": {
        "id": "PsnBm1atRBuS",
        "colab_type": "text"
      },
      "source": [
        "## Scatterplot"
      ]
    },
    {
      "cell_type": "markdown",
      "metadata": {
        "id": "GB7VbsgQqBB5",
        "colab_type": "text"
      },
      "source": [
        "Here's a basic scatterplot, showing the percentage of college educated (mapped to the y-axis) vs. the total population (mapped to the x-axis) in each county in the midwest states."
      ]
    },
    {
      "cell_type": "code",
      "metadata": {
        "id": "JrYiiJNTy2OC",
        "colab_type": "code",
        "colab": {}
      },
      "source": [
        "ax = sns.scatterplot(x=\"poptotal\", y=\"percollege\", data=midwest)"
      ],
      "execution_count": null,
      "outputs": []
    },
    {
      "cell_type": "markdown",
      "metadata": {
        "id": "QuTrMBn13HeR",
        "colab_type": "text"
      },
      "source": [
        "Now we're going to subset this and just show the counties in Ohio (state==OH). `midwest['state']` refers to the `state` column in the midwest dataset. \n",
        "\n",
        "We also have some adjustments to the x-axis labels and tick marks so that the population is printed with commas and everything fits."
      ]
    },
    {
      "cell_type": "code",
      "metadata": {
        "id": "0E3ItFN93HCq",
        "colab_type": "code",
        "colab": {}
      },
      "source": [
        "ax = sns.scatterplot(x=\"poptotal\", y=\"percollege\", data=midwest[midwest['state']==\"OH\"])\n",
        "\n",
        "ax.set_xlabel ('Population')\n",
        "ax.set_ylabel ('% College Educated')\n",
        "ax.set_title('Ohio counties (source: midwest)')\n",
        "\n",
        "# set x-axis parameters (to look nice)\n",
        "ax.set_xlim(left=0)    # set lowest xtick at 0\n",
        "ax.set_xticks(ax.get_xticks()[::2]) # use every other tick mark\n",
        "ticks = ax.get_xticks()\n",
        "labels = ['{:,.0f}'.format(x) for x in ticks]\n",
        "ax.set_xticklabels(labels);  # using the semicolon at the end won't print output"
      ],
      "execution_count": null,
      "outputs": []
    },
    {
      "cell_type": "markdown",
      "metadata": {
        "id": "_pzMwxshRDRM",
        "colab_type": "text"
      },
      "source": [
        "## Bar Chart"
      ]
    },
    {
      "cell_type": "markdown",
      "metadata": {
        "id": "SutVv-6HTnpF",
        "colab_type": "text"
      },
      "source": [
        "We need to sum the population in each state.  We can use Pandas functions for this.  First, we group the population by (`groupby`) state and `sum()` the values that we're grouping.  "
      ]
    },
    {
      "cell_type": "code",
      "metadata": {
        "id": "CZmW5G-pRJpE",
        "colab_type": "code",
        "colab": {}
      },
      "source": [
        "by_state = midwest.groupby('state').sum()\n",
        "by_state"
      ],
      "execution_count": null,
      "outputs": []
    },
    {
      "cell_type": "markdown",
      "metadata": {
        "id": "oLZh8JsqbizK",
        "colab_type": "text"
      },
      "source": [
        "Then we have to `reset_index()` to move 'state' back to a column instead of an index and then choose just 'state' and 'poptotal' columns."
      ]
    },
    {
      "cell_type": "code",
      "metadata": {
        "id": "N8kRM954be63",
        "colab_type": "code",
        "colab": {}
      },
      "source": [
        "state_pop = by_state.reset_index()[['state', 'poptotal']]\n",
        "state_pop"
      ],
      "execution_count": null,
      "outputs": []
    },
    {
      "cell_type": "markdown",
      "metadata": {
        "id": "0natf7WxUupn",
        "colab_type": "text"
      },
      "source": [
        "Then we can sort in descending order"
      ]
    },
    {
      "cell_type": "code",
      "metadata": {
        "id": "yLgWwfJEUxrl",
        "colab_type": "code",
        "colab": {}
      },
      "source": [
        "state_pop.sort_values(by=['poptotal'], ascending=False, inplace=True)\n",
        "state_pop"
      ],
      "execution_count": null,
      "outputs": []
    },
    {
      "cell_type": "markdown",
      "metadata": {
        "id": "EWbRV9xuU328",
        "colab_type": "text"
      },
      "source": [
        "Now we can plot with `catplot()` and `kind=\"bar\"`"
      ]
    },
    {
      "cell_type": "code",
      "metadata": {
        "id": "-S6JXsZzVEor",
        "colab_type": "code",
        "colab": {}
      },
      "source": [
        "g = sns.catplot(x=\"state\", y=\"poptotal\", kind=\"bar\", data=state_pop, color=\"steelblue\")\n",
        "\n",
        "g = (g.set_axis_labels ('State', 'Total Population'))\n",
        "plt.title('(source: midwest)')\n",
        "\n",
        "# format commas in ticklabels\n",
        "ticks = g.axes[0][0].get_yticks()\n",
        "labels = ['{:,.0f}'.format(x) for x in ticks]\n",
        "g.set_yticklabels(labels);"
      ],
      "execution_count": null,
      "outputs": []
    },
    {
      "cell_type": "markdown",
      "metadata": {
        "id": "pPqq_1DycUnS",
        "colab_type": "text"
      },
      "source": [
        "Let's turn it sideways.  Just switch x and y axes and make the chart wider to accomodate the labels."
      ]
    },
    {
      "cell_type": "code",
      "metadata": {
        "id": "AOVGNIUecXDX",
        "colab_type": "code",
        "colab": {}
      },
      "source": [
        "g = sns.catplot(y=\"state\", x=\"poptotal\", kind=\"bar\", data=state_pop, color=\"steelblue\", \n",
        "                height=5, # make the plot 5 units high\n",
        "                aspect=1.5) # width should be 1.5 times height)\n",
        "\n",
        "g = (g.set_axis_labels ('Total Population', 'State' ))\n",
        "plt.title('(source: midwest)')\n",
        "\n",
        "# format commas in ticklabels\n",
        "ticks = g.axes[0][0].get_xticks()\n",
        "labels = ['{:,.0f}'.format(x) for x in ticks]\n",
        "g.set_xticklabels(labels);"
      ],
      "execution_count": null,
      "outputs": []
    },
    {
      "cell_type": "markdown",
      "metadata": {
        "id": "2viXqJtwREmc",
        "colab_type": "text"
      },
      "source": [
        "## Line Chart"
      ]
    },
    {
      "cell_type": "code",
      "metadata": {
        "id": "_GN9gkTZdQXg",
        "colab_type": "code",
        "colab": {}
      },
      "source": [
        "economics.head()"
      ],
      "execution_count": null,
      "outputs": []
    },
    {
      "cell_type": "code",
      "metadata": {
        "id": "Mb6ZvhQz2Ee3",
        "colab_type": "code",
        "colab": {}
      },
      "source": [
        "ax = sns.lineplot(x=\"date\", y=\"unemploy\", data=economics)\n",
        "\n",
        "ax.set_xlabel ('Date')\n",
        "ax.set_ylabel ('Number Unemployed (thousands)')\n",
        "ax.set_title('(source: economics)')\n",
        "\n",
        "# set ticks every 5 years, show just the year\n",
        "import matplotlib.dates as mdates\n",
        "ax.xaxis.set_major_locator(mdates.YearLocator(5))\n",
        "ax.xaxis.set_major_formatter(mdates.DateFormatter('%Y'))\n",
        "\n",
        "# set y-axis parameters (to look nice)\n",
        "ticks = ax.get_yticks()\n",
        "labels = ['{:,.0f}'.format(x) for x in ticks]\n",
        "ax.set_yticklabels(labels);  "
      ],
      "execution_count": null,
      "outputs": []
    },
    {
      "cell_type": "markdown",
      "metadata": {
        "id": "qM1518i8RGv5",
        "colab_type": "text"
      },
      "source": [
        "## Scatterplot Matrix"
      ]
    },
    {
      "cell_type": "markdown",
      "metadata": {
        "id": "02HbPW-7-yo4",
        "colab_type": "text"
      },
      "source": [
        "We can use the `pairplot()` function to plot a scatterplot matrix.  Instead of plotting the data in the diagonals, it plots a histogram of that attribute.\n",
        "\n",
        "The example here goes back to the midwest dataset, selects only columns for 'area', 'poptotal', and 'popdensity'."
      ]
    },
    {
      "cell_type": "code",
      "metadata": {
        "id": "-tLsxW0Z-YQ6",
        "colab_type": "code",
        "colab": {}
      },
      "source": [
        "g = sns.pairplot(midwest, vars=['area', 'poptotal', 'popdensity'])"
      ],
      "execution_count": null,
      "outputs": []
    },
    {
      "cell_type": "markdown",
      "metadata": {
        "id": "NneMJx2ZRIL1",
        "colab_type": "text"
      },
      "source": [
        "## Histogram"
      ]
    },
    {
      "cell_type": "markdown",
      "metadata": {
        "id": "g0eXhJqf52Nd",
        "colab_type": "text"
      },
      "source": [
        "For the histogram, we show the distribution of population per county. Note that we're limiting this to counties that have less than 1 M people (in particular, Cook County, IL includes Chicago and has > 5 M people), so that skews the histogram.\n",
        "\n",
        "To create the histogram, we use the `distplot()` function. We have to pass just a simple array, so we've taken the subset with population < 1M and then returned just the `poptotal` column.\n",
        "\n",
        "By default `distplot()` also shows a kernel, so we specify `kde=False` to turn that off."
      ]
    },
    {
      "cell_type": "code",
      "metadata": {
        "id": "gfKq7f4H5pCl",
        "colab_type": "code",
        "colab": {}
      },
      "source": [
        "ax = sns.distplot(midwest[midwest['poptotal']<1000000]['poptotal'], kde=False) \n",
        "\n",
        "ax.set_xlabel ('Population')\n",
        "ax.set_ylabel ('Number of Counties')\n",
        "ax.set_title('(source: midwest)')\n",
        "\n",
        "# format commas in ticklabels\n",
        "ticks = ax.get_xticks()\n",
        "labels = ['{:,.0f}'.format(x) for x in ticks]\n",
        "ax.set_xticklabels(labels);"
      ],
      "execution_count": null,
      "outputs": []
    },
    {
      "cell_type": "markdown",
      "metadata": {
        "id": "ZEiOqNK78bkI",
        "colab_type": "text"
      },
      "source": [
        "We can use the `bins` option to change the number of bins in the histogram.  Note this is number of bins, not the binwidth (as we had in the R example)."
      ]
    },
    {
      "cell_type": "code",
      "metadata": {
        "id": "phpm155a9o01",
        "colab_type": "code",
        "colab": {}
      },
      "source": [
        "ax = sns.distplot(midwest[midwest['poptotal']<1000000]['poptotal'], kde=False, bins=100) \n",
        "\n",
        "ax.set_xlabel ('Population')\n",
        "ax.set_ylabel ('Number of Counties')\n",
        "ax.set_title('(source: midwest)')\n",
        "\n",
        "# format commas in ticklabels\n",
        "ticks = ax.get_xticks()\n",
        "labels = ['{:,.0f}'.format(x) for x in ticks]\n",
        "ax.set_xticklabels(labels);"
      ],
      "execution_count": null,
      "outputs": []
    },
    {
      "cell_type": "markdown",
      "metadata": {
        "id": "V2RG95LkRKQe",
        "colab_type": "text"
      },
      "source": [
        "## Boxplot"
      ]
    },
    {
      "cell_type": "markdown",
      "metadata": {
        "id": "2NWJOTNE5PKx",
        "colab_type": "text"
      },
      "source": [
        "We're again looking at the total population by county in the midwest (and again, only for counties with < 1M people). This time, we'll use boxplots and create a separate boxplot for each state. \n",
        "\n",
        "The code is very similar to the bar chart.  We use `catplot()`, specify `kind=\"box\"`, and use the midwest dataset (filtered to counties with < 1M people) instead of the state_pop dataset that we'd created for the bar chart."
      ]
    },
    {
      "cell_type": "code",
      "metadata": {
        "id": "QAZ2z22C4qmY",
        "colab_type": "code",
        "colab": {}
      },
      "source": [
        "g = sns.catplot(x=\"state\", y=\"poptotal\", kind=\"box\", data=midwest[midwest['poptotal']<1000000]) \n",
        "\n",
        "g = (g.set_axis_labels ('State', 'Total Population'))\n",
        "plt.title('(source: midwest)')\n",
        "\n",
        "# format commas in ticklabels\n",
        "ticks = g.axes[0][0].get_yticks()\n",
        "labels = ['{:,.0f}'.format(x) for x in ticks]\n",
        "g.set_yticklabels(labels);"
      ],
      "execution_count": null,
      "outputs": []
    },
    {
      "cell_type": "markdown",
      "metadata": {
        "id": "psypbAGmRMCv",
        "colab_type": "text"
      },
      "source": [
        "## Empirical CDF (ECDF)"
      ]
    },
    {
      "cell_type": "markdown",
      "metadata": {
        "id": "fMPrnJJMtYkG",
        "colab_type": "text"
      },
      "source": [
        "Currently, there's no ecdf plotting function for Seaborn, but it's coming soon. (See https://github.com/mwaskom/seaborn/pull/2141).  It will be `ecdfplot()`\n",
        "\n",
        "But there's code showing how to compute an ECDF and plot it with scatter().  See https://cmdlinetips.com/2019/05/empirical-cumulative-distribution-function-ecdf-in-python/"
      ]
    },
    {
      "cell_type": "markdown",
      "metadata": {
        "id": "i5dAxHNlxtp0",
        "colab_type": "text"
      },
      "source": [
        "*Preparing the data*"
      ]
    },
    {
      "cell_type": "code",
      "metadata": {
        "id": "rMHTYp3TxmgP",
        "colab_type": "code",
        "colab": {}
      },
      "source": [
        "import numpy as np  # use for sort() and arrange() to build the ECDF\n",
        "pop_data = midwest[midwest['poptotal']<1000000]['poptotal']\n",
        "x = np.sort(pop_data)\n",
        "n = x.size\n",
        "y = np.arange(1, n+1) / n"
      ],
      "execution_count": null,
      "outputs": []
    },
    {
      "cell_type": "markdown",
      "metadata": {
        "id": "-neScQasxoIL",
        "colab_type": "text"
      },
      "source": [
        "Drawing the chart with `scatter()`"
      ]
    },
    {
      "cell_type": "code",
      "metadata": {
        "id": "N-qzyV4stQtI",
        "colab_type": "code",
        "colab": {}
      },
      "source": [
        "plt.scatter(x=x, y=y);\n",
        "plt.xlabel('Population')\n",
        "plt.ylabel('Percentage of Counties');"
      ],
      "execution_count": null,
      "outputs": []
    },
    {
      "cell_type": "markdown",
      "metadata": {
        "id": "nkFtVT4fxfQr",
        "colab_type": "text"
      },
      "source": [
        "Here's an example of how to do the same thing with Seaborn's `lineplot()` to include the line and points."
      ]
    },
    {
      "cell_type": "code",
      "metadata": {
        "id": "WgrYKOX8wHoA",
        "colab_type": "code",
        "colab": {}
      },
      "source": [
        "ax = sns.lineplot(x=x, y=y, marker=\"o\")\n",
        "\n",
        "ax.set_xlabel ('Population')\n",
        "ax.set_ylabel ('Percentage of Counties')\n",
        "ax.set_title('(source: midwest)')\n",
        "\n",
        "# set x-axis parameters (to look nice)\n",
        "ax.set_xlim(left=0, right=1000000)    # set lowest xtick at 0, max at 1M\n",
        "ticks = ax.get_xticks()\n",
        "labels = ['{:,.0f}'.format(x) for x in ticks]\n",
        "ax.set_xticklabels(labels);  # using the semicolon at the end won't print output"
      ],
      "execution_count": null,
      "outputs": []
    }
  ]
}