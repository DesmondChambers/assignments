{
  "nbformat": 4,
  "nbformat_minor": 0,
  "metadata": {
    "colab": {
      "name": "432-Week03-InfoVis-Python.ipynb",
      "provenance": [],
      "collapsed_sections": [],
      "include_colab_link": true
    },
    "kernelspec": {
      "name": "python3",
      "display_name": "Python 3"
    }
  },
  "cells": [
    {
      "cell_type": "markdown",
      "metadata": {
        "id": "view-in-github",
        "colab_type": "text"
      },
      "source": [
        "<a href=\"https://colab.research.google.com/github/cs432-websci-fall20/assignments/blob/master/432_Week_03_InfoVis_Python.ipynb\" target=\"_parent\"><img src=\"https://colab.research.google.com/assets/colab-badge.svg\" alt=\"Open In Colab\"/></a>"
      ]
    },
    {
      "cell_type": "markdown",
      "metadata": {
        "id": "hdzLxxc9Q4ES",
        "colab_type": "text"
      },
      "source": [
        "# CS 432/532 InfoVis with Python Tutorial"
      ]
    },
    {
      "cell_type": "markdown",
      "metadata": {
        "id": "YfatT9E1l-b7",
        "colab_type": "text"
      },
      "source": [
        "We're going to use [Seaborn](https://seaborn.pydata.org/), which is a high-level interface to the popular [Matplotlib](https://matplotlib.org/).  We'll also be using [Pandas](https://pandas.pydata.org/) to read in data from a CSV file to a a dataframe (aka table) and manipulate the data.\n",
        "\n",
        "The goal is to produce plots similar to those from the InfoVis in R tutorial. So first, upload the `midwest.csv` and `economics.csv` datasets that were created in the R tutorial to your notebook.\n"
      ]
    },
    {
      "cell_type": "code",
      "metadata": {
        "id": "IZeTiREWlOLy",
        "colab_type": "code",
        "colab": {}
      },
      "source": [
        "import matplotlib.pyplot as plt  # will need some Matplotlib functions\n",
        "import seaborn as sns\n",
        "import pandas as pd              # will use Pandas for data manipulation\n",
        "sns.set_style(\"whitegrid\");   # use white grid as default"
      ],
      "execution_count": 16,
      "outputs": []
    },
    {
      "cell_type": "code",
      "metadata": {
        "id": "wpTt3spyo6u6",
        "colab_type": "code",
        "colab": {
          "base_uri": "https://localhost:8080/",
          "height": 300
        },
        "outputId": "1605b800-e9a4-4fc5-e85b-68ec14cbeed7"
      },
      "source": [
        "midwest = pd.read_csv('midwest.csv')\n",
        "midwest.head()"
      ],
      "execution_count": 18,
      "outputs": [
        {
          "output_type": "execute_result",
          "data": {
            "text/html": [
              "<div>\n",
              "<style scoped>\n",
              "    .dataframe tbody tr th:only-of-type {\n",
              "        vertical-align: middle;\n",
              "    }\n",
              "\n",
              "    .dataframe tbody tr th {\n",
              "        vertical-align: top;\n",
              "    }\n",
              "\n",
              "    .dataframe thead th {\n",
              "        text-align: right;\n",
              "    }\n",
              "</style>\n",
              "<table border=\"1\" class=\"dataframe\">\n",
              "  <thead>\n",
              "    <tr style=\"text-align: right;\">\n",
              "      <th></th>\n",
              "      <th>Unnamed: 0</th>\n",
              "      <th>PID</th>\n",
              "      <th>county</th>\n",
              "      <th>state</th>\n",
              "      <th>area</th>\n",
              "      <th>poptotal</th>\n",
              "      <th>popdensity</th>\n",
              "      <th>popwhite</th>\n",
              "      <th>popblack</th>\n",
              "      <th>popamerindian</th>\n",
              "      <th>popasian</th>\n",
              "      <th>popother</th>\n",
              "      <th>percwhite</th>\n",
              "      <th>percblack</th>\n",
              "      <th>percamerindan</th>\n",
              "      <th>percasian</th>\n",
              "      <th>percother</th>\n",
              "      <th>popadults</th>\n",
              "      <th>perchsd</th>\n",
              "      <th>percollege</th>\n",
              "      <th>percprof</th>\n",
              "      <th>poppovertyknown</th>\n",
              "      <th>percpovertyknown</th>\n",
              "      <th>percbelowpoverty</th>\n",
              "      <th>percchildbelowpovert</th>\n",
              "      <th>percadultpoverty</th>\n",
              "      <th>percelderlypoverty</th>\n",
              "      <th>inmetro</th>\n",
              "      <th>category</th>\n",
              "    </tr>\n",
              "  </thead>\n",
              "  <tbody>\n",
              "    <tr>\n",
              "      <th>0</th>\n",
              "      <td>1</td>\n",
              "      <td>561</td>\n",
              "      <td>ADAMS</td>\n",
              "      <td>IL</td>\n",
              "      <td>0.052</td>\n",
              "      <td>66090</td>\n",
              "      <td>1270.961540</td>\n",
              "      <td>63917</td>\n",
              "      <td>1702</td>\n",
              "      <td>98</td>\n",
              "      <td>249</td>\n",
              "      <td>124</td>\n",
              "      <td>96.712059</td>\n",
              "      <td>2.575276</td>\n",
              "      <td>0.148283</td>\n",
              "      <td>0.376759</td>\n",
              "      <td>0.187623</td>\n",
              "      <td>43298</td>\n",
              "      <td>75.107395</td>\n",
              "      <td>19.631392</td>\n",
              "      <td>4.355859</td>\n",
              "      <td>63628</td>\n",
              "      <td>96.274777</td>\n",
              "      <td>13.151443</td>\n",
              "      <td>18.011717</td>\n",
              "      <td>11.009776</td>\n",
              "      <td>12.443812</td>\n",
              "      <td>0</td>\n",
              "      <td>AAR</td>\n",
              "    </tr>\n",
              "    <tr>\n",
              "      <th>1</th>\n",
              "      <td>2</td>\n",
              "      <td>562</td>\n",
              "      <td>ALEXANDER</td>\n",
              "      <td>IL</td>\n",
              "      <td>0.014</td>\n",
              "      <td>10626</td>\n",
              "      <td>759.000000</td>\n",
              "      <td>7054</td>\n",
              "      <td>3496</td>\n",
              "      <td>19</td>\n",
              "      <td>48</td>\n",
              "      <td>9</td>\n",
              "      <td>66.384340</td>\n",
              "      <td>32.900433</td>\n",
              "      <td>0.178807</td>\n",
              "      <td>0.451722</td>\n",
              "      <td>0.084698</td>\n",
              "      <td>6724</td>\n",
              "      <td>59.726353</td>\n",
              "      <td>11.243308</td>\n",
              "      <td>2.870315</td>\n",
              "      <td>10529</td>\n",
              "      <td>99.087145</td>\n",
              "      <td>32.244278</td>\n",
              "      <td>45.826514</td>\n",
              "      <td>27.385647</td>\n",
              "      <td>25.228976</td>\n",
              "      <td>0</td>\n",
              "      <td>LHR</td>\n",
              "    </tr>\n",
              "    <tr>\n",
              "      <th>2</th>\n",
              "      <td>3</td>\n",
              "      <td>563</td>\n",
              "      <td>BOND</td>\n",
              "      <td>IL</td>\n",
              "      <td>0.022</td>\n",
              "      <td>14991</td>\n",
              "      <td>681.409091</td>\n",
              "      <td>14477</td>\n",
              "      <td>429</td>\n",
              "      <td>35</td>\n",
              "      <td>16</td>\n",
              "      <td>34</td>\n",
              "      <td>96.571276</td>\n",
              "      <td>2.861717</td>\n",
              "      <td>0.233473</td>\n",
              "      <td>0.106731</td>\n",
              "      <td>0.226803</td>\n",
              "      <td>9669</td>\n",
              "      <td>69.334988</td>\n",
              "      <td>17.033819</td>\n",
              "      <td>4.488572</td>\n",
              "      <td>14235</td>\n",
              "      <td>94.956974</td>\n",
              "      <td>12.068844</td>\n",
              "      <td>14.036061</td>\n",
              "      <td>10.852090</td>\n",
              "      <td>12.697410</td>\n",
              "      <td>0</td>\n",
              "      <td>AAR</td>\n",
              "    </tr>\n",
              "    <tr>\n",
              "      <th>3</th>\n",
              "      <td>4</td>\n",
              "      <td>564</td>\n",
              "      <td>BOONE</td>\n",
              "      <td>IL</td>\n",
              "      <td>0.017</td>\n",
              "      <td>30806</td>\n",
              "      <td>1812.117650</td>\n",
              "      <td>29344</td>\n",
              "      <td>127</td>\n",
              "      <td>46</td>\n",
              "      <td>150</td>\n",
              "      <td>1139</td>\n",
              "      <td>95.254171</td>\n",
              "      <td>0.412257</td>\n",
              "      <td>0.149322</td>\n",
              "      <td>0.486918</td>\n",
              "      <td>3.697332</td>\n",
              "      <td>19272</td>\n",
              "      <td>75.472188</td>\n",
              "      <td>17.278954</td>\n",
              "      <td>4.197800</td>\n",
              "      <td>30337</td>\n",
              "      <td>98.477569</td>\n",
              "      <td>7.209019</td>\n",
              "      <td>11.179536</td>\n",
              "      <td>5.536013</td>\n",
              "      <td>6.217047</td>\n",
              "      <td>1</td>\n",
              "      <td>ALU</td>\n",
              "    </tr>\n",
              "    <tr>\n",
              "      <th>4</th>\n",
              "      <td>5</td>\n",
              "      <td>565</td>\n",
              "      <td>BROWN</td>\n",
              "      <td>IL</td>\n",
              "      <td>0.018</td>\n",
              "      <td>5836</td>\n",
              "      <td>324.222222</td>\n",
              "      <td>5264</td>\n",
              "      <td>547</td>\n",
              "      <td>14</td>\n",
              "      <td>5</td>\n",
              "      <td>6</td>\n",
              "      <td>90.198766</td>\n",
              "      <td>9.372858</td>\n",
              "      <td>0.239890</td>\n",
              "      <td>0.085675</td>\n",
              "      <td>0.102810</td>\n",
              "      <td>3979</td>\n",
              "      <td>68.861523</td>\n",
              "      <td>14.475999</td>\n",
              "      <td>3.367680</td>\n",
              "      <td>4815</td>\n",
              "      <td>82.505140</td>\n",
              "      <td>13.520249</td>\n",
              "      <td>13.022889</td>\n",
              "      <td>11.143211</td>\n",
              "      <td>19.200000</td>\n",
              "      <td>0</td>\n",
              "      <td>AAR</td>\n",
              "    </tr>\n",
              "  </tbody>\n",
              "</table>\n",
              "</div>"
            ],
            "text/plain": [
              "   Unnamed: 0  PID     county  ... percelderlypoverty  inmetro  category\n",
              "0           1  561      ADAMS  ...          12.443812        0       AAR\n",
              "1           2  562  ALEXANDER  ...          25.228976        0       LHR\n",
              "2           3  563       BOND  ...          12.697410        0       AAR\n",
              "3           4  564      BOONE  ...           6.217047        1       ALU\n",
              "4           5  565      BROWN  ...          19.200000        0       AAR\n",
              "\n",
              "[5 rows x 29 columns]"
            ]
          },
          "metadata": {
            "tags": []
          },
          "execution_count": 18
        }
      ]
    },
    {
      "cell_type": "markdown",
      "metadata": {
        "id": "eFMaXjzw5NMk",
        "colab_type": "text"
      },
      "source": [
        "Read in the \"date\" column as a date.\n",
        "\n",
        "ref: https://www.earthdatascience.org/courses/use-data-open-source-python/use-time-series-data-in-python/date-time-types-in-pandas-python/"
      ]
    },
    {
      "cell_type": "code",
      "metadata": {
        "id": "wJwbK7t8oysx",
        "colab_type": "code",
        "colab": {
          "base_uri": "https://localhost:8080/",
          "height": 258
        },
        "outputId": "00c7f062-cf66-4ebd-fd90-983da0621e29"
      },
      "source": [
        "economics = pd.read_csv('economics.csv', parse_dates = ['date'])\n",
        "economics.head()"
      ],
      "execution_count": 17,
      "outputs": [
        {
          "output_type": "execute_result",
          "data": {
            "text/html": [
              "<div>\n",
              "<style scoped>\n",
              "    .dataframe tbody tr th:only-of-type {\n",
              "        vertical-align: middle;\n",
              "    }\n",
              "\n",
              "    .dataframe tbody tr th {\n",
              "        vertical-align: top;\n",
              "    }\n",
              "\n",
              "    .dataframe thead th {\n",
              "        text-align: right;\n",
              "    }\n",
              "</style>\n",
              "<table border=\"1\" class=\"dataframe\">\n",
              "  <thead>\n",
              "    <tr style=\"text-align: right;\">\n",
              "      <th></th>\n",
              "      <th>Unnamed: 0</th>\n",
              "      <th>date</th>\n",
              "      <th>pce</th>\n",
              "      <th>pop</th>\n",
              "      <th>psavert</th>\n",
              "      <th>uempmed</th>\n",
              "      <th>unemploy</th>\n",
              "    </tr>\n",
              "  </thead>\n",
              "  <tbody>\n",
              "    <tr>\n",
              "      <th>0</th>\n",
              "      <td>1</td>\n",
              "      <td>1967-07-01</td>\n",
              "      <td>506.7</td>\n",
              "      <td>198712.0</td>\n",
              "      <td>12.6</td>\n",
              "      <td>4.5</td>\n",
              "      <td>2944</td>\n",
              "    </tr>\n",
              "    <tr>\n",
              "      <th>1</th>\n",
              "      <td>2</td>\n",
              "      <td>1967-08-01</td>\n",
              "      <td>509.8</td>\n",
              "      <td>198911.0</td>\n",
              "      <td>12.6</td>\n",
              "      <td>4.7</td>\n",
              "      <td>2945</td>\n",
              "    </tr>\n",
              "    <tr>\n",
              "      <th>2</th>\n",
              "      <td>3</td>\n",
              "      <td>1967-09-01</td>\n",
              "      <td>515.6</td>\n",
              "      <td>199113.0</td>\n",
              "      <td>11.9</td>\n",
              "      <td>4.6</td>\n",
              "      <td>2958</td>\n",
              "    </tr>\n",
              "    <tr>\n",
              "      <th>3</th>\n",
              "      <td>4</td>\n",
              "      <td>1967-10-01</td>\n",
              "      <td>512.2</td>\n",
              "      <td>199311.0</td>\n",
              "      <td>12.9</td>\n",
              "      <td>4.9</td>\n",
              "      <td>3143</td>\n",
              "    </tr>\n",
              "    <tr>\n",
              "      <th>4</th>\n",
              "      <td>5</td>\n",
              "      <td>1967-11-01</td>\n",
              "      <td>517.4</td>\n",
              "      <td>199498.0</td>\n",
              "      <td>12.8</td>\n",
              "      <td>4.7</td>\n",
              "      <td>3066</td>\n",
              "    </tr>\n",
              "  </tbody>\n",
              "</table>\n",
              "</div>"
            ],
            "text/plain": [
              "   Unnamed: 0       date    pce       pop  psavert  uempmed  unemploy\n",
              "0           1 1967-07-01  506.7  198712.0     12.6      4.5      2944\n",
              "1           2 1967-08-01  509.8  198911.0     12.6      4.7      2945\n",
              "2           3 1967-09-01  515.6  199113.0     11.9      4.6      2958\n",
              "3           4 1967-10-01  512.2  199311.0     12.9      4.9      3143\n",
              "4           5 1967-11-01  517.4  199498.0     12.8      4.7      3066"
            ]
          },
          "metadata": {
            "tags": []
          },
          "execution_count": 17
        }
      ]
    },
    {
      "cell_type": "markdown",
      "metadata": {
        "id": "-JFudREYr9dO",
        "colab_type": "text"
      },
      "source": [
        "## Things to Note\n",
        "\n",
        "* If you're running these in a script, you'll need to include `plt.show()` at the end to actually draw the plot.  We don't need this line in the notebook.\n",
        "\n",
        "* In Seaborn, you may need to note if the chart function returns a `FacetGrid` object or an `Axes` object.  I've tried to use the variable `g` for `FacetGrid` and `ax` for `Axes`."
      ]
    },
    {
      "cell_type": "markdown",
      "metadata": {
        "id": "PsnBm1atRBuS",
        "colab_type": "text"
      },
      "source": [
        "## Scatterplot"
      ]
    },
    {
      "cell_type": "markdown",
      "metadata": {
        "id": "GB7VbsgQqBB5",
        "colab_type": "text"
      },
      "source": [
        "Here's a basic scatterplot, showing the percentage of college educated (mapped to the y-axis) vs. the total population (mapped to the x-axis) in each county in the midwest states."
      ]
    },
    {
      "cell_type": "code",
      "metadata": {
        "id": "JrYiiJNTy2OC",
        "colab_type": "code",
        "colab": {}
      },
      "source": [
        "ax = sns.scatterplot(x=\"poptotal\", y=\"percollege\", data=midwest)"
      ],
      "execution_count": null,
      "outputs": []
    },
    {
      "cell_type": "markdown",
      "metadata": {
        "id": "QuTrMBn13HeR",
        "colab_type": "text"
      },
      "source": [
        "Now we're going to subset this and just show the counties in Ohio (state==OH). `midwest['state']` refers to the `state` column in the midwest dataset. \n",
        "\n",
        "We also have some adjustments to the x-axis labels and tick marks so that the population is printed with commas and everything fits."
      ]
    },
    {
      "cell_type": "code",
      "metadata": {
        "id": "0E3ItFN93HCq",
        "colab_type": "code",
        "colab": {}
      },
      "source": [
        "ax = sns.scatterplot(x=\"poptotal\", y=\"percollege\", data=midwest[midwest['state']==\"OH\"])\n",
        "\n",
        "ax.set_xlabel ('Population')\n",
        "ax.set_ylabel ('% College Educated')\n",
        "ax.set_title('Ohio counties (source: midwest)')\n",
        "\n",
        "# set x-axis parameters (to look nice)\n",
        "ax.set_xlim(left=0)    # set lowest xtick at 0\n",
        "ax.set_xticks(ax.get_xticks()[::2]) # use every other tick mark\n",
        "ticks = ax.get_xticks()\n",
        "labels = ['{:,.0f}'.format(x) for x in ticks]\n",
        "ax.set_xticklabels(labels);  # using the semicolon at the end won't print output"
      ],
      "execution_count": null,
      "outputs": []
    },
    {
      "cell_type": "markdown",
      "metadata": {
        "id": "_pzMwxshRDRM",
        "colab_type": "text"
      },
      "source": [
        "## Bar Chart"
      ]
    },
    {
      "cell_type": "markdown",
      "metadata": {
        "id": "SutVv-6HTnpF",
        "colab_type": "text"
      },
      "source": [
        "We need to sum the population in each state.  We can use Pandas functions for this.  First, we group the population by (`groupby`) state and `sum()` the values that we're grouping.  "
      ]
    },
    {
      "cell_type": "code",
      "metadata": {
        "id": "CZmW5G-pRJpE",
        "colab_type": "code",
        "colab": {}
      },
      "source": [
        "by_state = midwest.groupby('state').sum()\n",
        "by_state"
      ],
      "execution_count": null,
      "outputs": []
    },
    {
      "cell_type": "markdown",
      "metadata": {
        "id": "oLZh8JsqbizK",
        "colab_type": "text"
      },
      "source": [
        "Then we have to `reset_index()` to move 'state' back to a column instead of an index and then choose just 'state' and 'poptotal' columns."
      ]
    },
    {
      "cell_type": "code",
      "metadata": {
        "id": "N8kRM954be63",
        "colab_type": "code",
        "colab": {}
      },
      "source": [
        "state_pop = by_state.reset_index()[['state', 'poptotal']]\n",
        "state_pop"
      ],
      "execution_count": null,
      "outputs": []
    },
    {
      "cell_type": "markdown",
      "metadata": {
        "id": "0natf7WxUupn",
        "colab_type": "text"
      },
      "source": [
        "Then we can sort in descending order"
      ]
    },
    {
      "cell_type": "code",
      "metadata": {
        "id": "yLgWwfJEUxrl",
        "colab_type": "code",
        "colab": {}
      },
      "source": [
        "state_pop.sort_values(by=['poptotal'], ascending=False, inplace=True)\n",
        "state_pop"
      ],
      "execution_count": null,
      "outputs": []
    },
    {
      "cell_type": "markdown",
      "metadata": {
        "id": "EWbRV9xuU328",
        "colab_type": "text"
      },
      "source": [
        "Now we can plot with `catplot()` and `kind=\"bar\"`"
      ]
    },
    {
      "cell_type": "code",
      "metadata": {
        "id": "-S6JXsZzVEor",
        "colab_type": "code",
        "colab": {}
      },
      "source": [
        "g = sns.catplot(x=\"state\", y=\"poptotal\", kind=\"bar\", data=state_pop, color=\"steelblue\")\n",
        "\n",
        "g = (g.set_axis_labels ('State', 'Total Population'))\n",
        "plt.title('(source: midwest)')\n",
        "\n",
        "# format commas in ticklabels\n",
        "ticks = g.axes[0][0].get_yticks()\n",
        "labels = ['{:,.0f}'.format(x) for x in ticks]\n",
        "g.set_yticklabels(labels);"
      ],
      "execution_count": null,
      "outputs": []
    },
    {
      "cell_type": "markdown",
      "metadata": {
        "id": "pPqq_1DycUnS",
        "colab_type": "text"
      },
      "source": [
        "Let's turn it sideways.  Just switch x and y axes and make the chart wider to accomodate the labels."
      ]
    },
    {
      "cell_type": "code",
      "metadata": {
        "id": "AOVGNIUecXDX",
        "colab_type": "code",
        "colab": {}
      },
      "source": [
        "g = sns.catplot(y=\"state\", x=\"poptotal\", kind=\"bar\", data=state_pop, color=\"steelblue\", \n",
        "                height=5, # make the plot 5 units high\n",
        "                aspect=1.5) # width should be 1.5 times height)\n",
        "\n",
        "g = (g.set_axis_labels ('Total Population', 'State' ))\n",
        "plt.title('(source: midwest)')\n",
        "\n",
        "# format commas in ticklabels\n",
        "ticks = g.axes[0][0].get_xticks()\n",
        "labels = ['{:,.0f}'.format(x) for x in ticks]\n",
        "g.set_xticklabels(labels);"
      ],
      "execution_count": null,
      "outputs": []
    },
    {
      "cell_type": "markdown",
      "metadata": {
        "id": "2viXqJtwREmc",
        "colab_type": "text"
      },
      "source": [
        "## Line Chart"
      ]
    },
    {
      "cell_type": "code",
      "metadata": {
        "id": "_GN9gkTZdQXg",
        "colab_type": "code",
        "colab": {
          "base_uri": "https://localhost:8080/",
          "height": 258
        },
        "outputId": "7aa00006-6e9f-4a9b-bd5f-885e981ec319"
      },
      "source": [
        "economics.head()"
      ],
      "execution_count": 19,
      "outputs": [
        {
          "output_type": "execute_result",
          "data": {
            "text/html": [
              "<div>\n",
              "<style scoped>\n",
              "    .dataframe tbody tr th:only-of-type {\n",
              "        vertical-align: middle;\n",
              "    }\n",
              "\n",
              "    .dataframe tbody tr th {\n",
              "        vertical-align: top;\n",
              "    }\n",
              "\n",
              "    .dataframe thead th {\n",
              "        text-align: right;\n",
              "    }\n",
              "</style>\n",
              "<table border=\"1\" class=\"dataframe\">\n",
              "  <thead>\n",
              "    <tr style=\"text-align: right;\">\n",
              "      <th></th>\n",
              "      <th>Unnamed: 0</th>\n",
              "      <th>date</th>\n",
              "      <th>pce</th>\n",
              "      <th>pop</th>\n",
              "      <th>psavert</th>\n",
              "      <th>uempmed</th>\n",
              "      <th>unemploy</th>\n",
              "    </tr>\n",
              "  </thead>\n",
              "  <tbody>\n",
              "    <tr>\n",
              "      <th>0</th>\n",
              "      <td>1</td>\n",
              "      <td>1967-07-01</td>\n",
              "      <td>506.7</td>\n",
              "      <td>198712.0</td>\n",
              "      <td>12.6</td>\n",
              "      <td>4.5</td>\n",
              "      <td>2944</td>\n",
              "    </tr>\n",
              "    <tr>\n",
              "      <th>1</th>\n",
              "      <td>2</td>\n",
              "      <td>1967-08-01</td>\n",
              "      <td>509.8</td>\n",
              "      <td>198911.0</td>\n",
              "      <td>12.6</td>\n",
              "      <td>4.7</td>\n",
              "      <td>2945</td>\n",
              "    </tr>\n",
              "    <tr>\n",
              "      <th>2</th>\n",
              "      <td>3</td>\n",
              "      <td>1967-09-01</td>\n",
              "      <td>515.6</td>\n",
              "      <td>199113.0</td>\n",
              "      <td>11.9</td>\n",
              "      <td>4.6</td>\n",
              "      <td>2958</td>\n",
              "    </tr>\n",
              "    <tr>\n",
              "      <th>3</th>\n",
              "      <td>4</td>\n",
              "      <td>1967-10-01</td>\n",
              "      <td>512.2</td>\n",
              "      <td>199311.0</td>\n",
              "      <td>12.9</td>\n",
              "      <td>4.9</td>\n",
              "      <td>3143</td>\n",
              "    </tr>\n",
              "    <tr>\n",
              "      <th>4</th>\n",
              "      <td>5</td>\n",
              "      <td>1967-11-01</td>\n",
              "      <td>517.4</td>\n",
              "      <td>199498.0</td>\n",
              "      <td>12.8</td>\n",
              "      <td>4.7</td>\n",
              "      <td>3066</td>\n",
              "    </tr>\n",
              "  </tbody>\n",
              "</table>\n",
              "</div>"
            ],
            "text/plain": [
              "   Unnamed: 0       date    pce       pop  psavert  uempmed  unemploy\n",
              "0           1 1967-07-01  506.7  198712.0     12.6      4.5      2944\n",
              "1           2 1967-08-01  509.8  198911.0     12.6      4.7      2945\n",
              "2           3 1967-09-01  515.6  199113.0     11.9      4.6      2958\n",
              "3           4 1967-10-01  512.2  199311.0     12.9      4.9      3143\n",
              "4           5 1967-11-01  517.4  199498.0     12.8      4.7      3066"
            ]
          },
          "metadata": {
            "tags": []
          },
          "execution_count": 19
        }
      ]
    },
    {
      "cell_type": "code",
      "metadata": {
        "id": "Mb6ZvhQz2Ee3",
        "colab_type": "code",
        "colab": {
          "base_uri": "https://localhost:8080/",
          "height": 295
        },
        "outputId": "80f876bb-d972-4bb8-b4c5-603032f929dd"
      },
      "source": [
        "ax = sns.lineplot(x=\"date\", y=\"unemploy\", data=economics)\n",
        "\n",
        "ax.set_xlabel ('Date')\n",
        "ax.set_ylabel ('Number Unemployed (thousands)')\n",
        "ax.set_title('(source: economics)')\n",
        "\n",
        "# set ticks every 5 years, show just the year\n",
        "import matplotlib.dates as mdates\n",
        "ax.xaxis.set_major_locator(mdates.YearLocator(5))\n",
        "ax.xaxis.set_major_formatter(mdates.DateFormatter('%Y'))\n",
        "\n",
        "# set y-axis parameters (to look nice)\n",
        "ticks = ax.get_yticks()\n",
        "labels = ['{:,.0f}'.format(x) for x in ticks]\n",
        "ax.set_yticklabels(labels);  "
      ],
      "execution_count": 28,
      "outputs": [
        {
          "output_type": "display_data",
          "data": {
            "image/png": "[encoded data removed]",
            "text/plain": [
              "<Figure size 432x288 with 1 Axes>"
            ]
          },
          "metadata": {
            "tags": []
          }
        }
      ]
    },
    {
      "cell_type": "markdown",
      "metadata": {
        "id": "qM1518i8RGv5",
        "colab_type": "text"
      },
      "source": [
        "## Scatterplot Matrix"
      ]
    },
    {
      "cell_type": "markdown",
      "metadata": {
        "id": "02HbPW-7-yo4",
        "colab_type": "text"
      },
      "source": [
        "We can use the `pairplot()` function to plot a scatterplot matrix.  Instead of plotting the data in the diagonals, it plots a histogram of that attribute.\n",
        "\n",
        "The example here goes back to the midwest dataset, selects only columns for 'area', 'poptotal', and 'popdensity'."
      ]
    },
    {
      "cell_type": "code",
      "metadata": {
        "id": "-tLsxW0Z-YQ6",
        "colab_type": "code",
        "colab": {
          "base_uri": "https://localhost:8080/",
          "height": 567
        },
        "outputId": "00d1c78f-2025-4e95-cebc-9c0d835847fc"
      },
      "source": [
        "g = sns.pairplot(midwest, vars=['area', 'poptotal', 'popdensity'])"
      ],
      "execution_count": 29,
      "outputs": [
        {
          "output_type": "display_data",
          "data": {
            "image/png": "[encoded data removed]",
            "text/plain": [
              "<Figure size 540x540 with 12 Axes>"
            ]
          },
          "metadata": {
            "tags": []
          }
        }
      ]
    },
    {
      "cell_type": "markdown",
      "metadata": {
        "id": "NneMJx2ZRIL1",
        "colab_type": "text"
      },
      "source": [
        "## Histogram"
      ]
    },
    {
      "cell_type": "markdown",
      "metadata": {
        "id": "g0eXhJqf52Nd",
        "colab_type": "text"
      },
      "source": [
        "For the histogram, we show the distribution of population per county. Note that we're limiting this to counties that have less than 1 M people (in particular, Cook County, IL includes Chicago and has > 5 M people), so that skews the histogram.\n",
        "\n",
        "To create the histogram, we use the `distplot()` function. We have to pass just a simple array, so we've taken the subset with population < 1M and then returned just the `poptotal` column.\n",
        "\n",
        "By default `distplot()` also shows a kernel, so we specify `kde=False` to turn that off."
      ]
    },
    {
      "cell_type": "code",
      "metadata": {
        "id": "gfKq7f4H5pCl",
        "colab_type": "code",
        "colab": {
          "base_uri": "https://localhost:8080/",
          "height": 295
        },
        "outputId": "61cafe74-8a47-4648-f94d-2ef93a169fc2"
      },
      "source": [
        "ax = sns.distplot(midwest[midwest['poptotal']<1000000]['poptotal'], kde=False) \n",
        "\n",
        "ax.set_xlabel ('Population')\n",
        "ax.set_ylabel ('Number of Counties')\n",
        "ax.set_title('(source: midwest)')\n",
        "\n",
        "# format commas in ticklabels\n",
        "ticks = ax.get_xticks()\n",
        "labels = ['{:,.0f}'.format(x) for x in ticks]\n",
        "ax.set_xticklabels(labels);"
      ],
      "execution_count": 30,
      "outputs": [
        {
          "output_type": "display_data",
          "data": {
            "image/png": "[encoded data removed]",
            "text/plain": [
              "<Figure size 432x288 with 1 Axes>"
            ]
          },
          "metadata": {
            "tags": []
          }
        }
      ]
    },
    {
      "cell_type": "markdown",
      "metadata": {
        "id": "ZEiOqNK78bkI",
        "colab_type": "text"
      },
      "source": [
        "We can use the `bins` option to change the number of bins in the histogram.  Note this is number of bins, not the binwidth (as we had in the R example)."
      ]
    },
    {
      "cell_type": "code",
      "metadata": {
        "id": "phpm155a9o01",
        "colab_type": "code",
        "colab": {
          "base_uri": "https://localhost:8080/",
          "height": 295
        },
        "outputId": "372ed58d-dee2-4a54-edd1-dcf3922c7816"
      },
      "source": [
        "ax = sns.distplot(midwest[midwest['poptotal']<1000000]['poptotal'], kde=False, bins=100) \n",
        "\n",
        "ax.set_xlabel ('Population')\n",
        "ax.set_ylabel ('Number of Counties')\n",
        "ax.set_title('(source: midwest)')\n",
        "\n",
        "# format commas in ticklabels\n",
        "ticks = ax.get_xticks()\n",
        "labels = ['{:,.0f}'.format(x) for x in ticks]\n",
        "ax.set_xticklabels(labels);"
      ],
      "execution_count": 31,
      "outputs": [
        {
          "output_type": "display_data",
          "data": {
            "image/png": "[encoded data removed]",
            "text/plain": [
              "<Figure size 432x288 with 1 Axes>"
            ]
          },
          "metadata": {
            "tags": []
          }
        }
      ]
    },
    {
      "cell_type": "markdown",
      "metadata": {
        "id": "V2RG95LkRKQe",
        "colab_type": "text"
      },
      "source": [
        "## Boxplot"
      ]
    },
    {
      "cell_type": "markdown",
      "metadata": {
        "id": "2NWJOTNE5PKx",
        "colab_type": "text"
      },
      "source": [
        "We're again looking at the total population by county in the midwest (and again, only for counties with < 1M people). This time, we'll use boxplots and create a separate boxplot for each state. \n",
        "\n",
        "The code is very similar to the bar chart.  We use `catplot()`, specify `kind=\"box\"`, and use the midwest dataset (filtered to counties with < 1M people) instead of the state_pop dataset that we'd created for the bar chart."
      ]
    },
    {
      "cell_type": "code",
      "metadata": {
        "id": "QAZ2z22C4qmY",
        "colab_type": "code",
        "colab": {
          "base_uri": "https://localhost:8080/",
          "height": 374
        },
        "outputId": "bc3ef322-5580-4779-ef21-62b819cb5a78"
      },
      "source": [
        "g = sns.catplot(x=\"state\", y=\"poptotal\", kind=\"box\", data=midwest[midwest['poptotal']<1000000]) \n",
        "\n",
        "g = (g.set_axis_labels ('State', 'Total Population'))\n",
        "plt.title('(source: midwest)')\n",
        "\n",
        "# format commas in ticklabels\n",
        "ticks = g.axes[0][0].get_yticks()\n",
        "labels = ['{:,.0f}'.format(x) for x in ticks]\n",
        "g.set_yticklabels(labels);"
      ],
      "execution_count": 32,
      "outputs": [
        {
          "output_type": "display_data",
          "data": {
            "image/png": "[encoded data removed]",
            "text/plain": [
              "<Figure size 360x360 with 1 Axes>"
            ]
          },
          "metadata": {
            "tags": []
          }
        }
      ]
    },
    {
      "cell_type": "markdown",
      "metadata": {
        "id": "psypbAGmRMCv",
        "colab_type": "text"
      },
      "source": [
        "## Empirical CDF (ECDF)"
      ]
    },
    {
      "cell_type": "markdown",
      "metadata": {
        "id": "fMPrnJJMtYkG",
        "colab_type": "text"
      },
      "source": [
        "Currently, there's no ecdf plotting function for Seaborn, but it's coming soon. (See https://github.com/mwaskom/seaborn/pull/2141).  It will be `ecdfplot()`\n",
        "\n",
        "But there's code showing how to compute an ECDF and plot it with scatter().  See https://cmdlinetips.com/2019/05/empirical-cumulative-distribution-function-ecdf-in-python/"
      ]
    },
    {
      "cell_type": "markdown",
      "metadata": {
        "id": "i5dAxHNlxtp0",
        "colab_type": "text"
      },
      "source": [
        "*Preparing the data*"
      ]
    },
    {
      "cell_type": "code",
      "metadata": {
        "id": "rMHTYp3TxmgP",
        "colab_type": "code",
        "colab": {}
      },
      "source": [
        "import numpy as np  # use for sort() and arrange() to build the ECDF\n",
        "pop_data = midwest[midwest['poptotal']<1000000]['poptotal']\n",
        "x = np.sort(pop_data)\n",
        "n = x.size\n",
        "y = np.arange(1, n+1) / n"
      ],
      "execution_count": 34,
      "outputs": []
    },
    {
      "cell_type": "markdown",
      "metadata": {
        "id": "-neScQasxoIL",
        "colab_type": "text"
      },
      "source": [
        "Drawing the chart with `scatter()`"
      ]
    },
    {
      "cell_type": "code",
      "metadata": {
        "id": "N-qzyV4stQtI",
        "colab_type": "code",
        "colab": {
          "base_uri": "https://localhost:8080/",
          "height": 279
        },
        "outputId": "f686d50b-56ad-4d70-e420-6ed87b881597"
      },
      "source": [
        "plt.scatter(x=x, y=y);\n",
        "plt.xlabel('Population')\n",
        "plt.ylabel('Percentage of Counties');"
      ],
      "execution_count": 35,
      "outputs": [
        {
          "output_type": "display_data",
          "data": {
            "image/png": "[encoded data removed]",
            "text/plain": [
              "<Figure size 432x288 with 1 Axes>"
            ]
          },
          "metadata": {
            "tags": []
          }
        }
      ]
    },
    {
      "cell_type": "markdown",
      "metadata": {
        "id": "nkFtVT4fxfQr",
        "colab_type": "text"
      },
      "source": [
        "Here's an example of how to do the same thing with Seaborn's `lineplot()` to include the line and points."
      ]
    },
    {
      "cell_type": "code",
      "metadata": {
        "id": "WgrYKOX8wHoA",
        "colab_type": "code",
        "colab": {
          "base_uri": "https://localhost:8080/",
          "height": 295
        },
        "outputId": "a66e7b01-bbd3-4c7b-fb59-f1b220905a3f"
      },
      "source": [
        "ax = sns.lineplot(x=x, y=y, marker=\"o\")\n",
        "\n",
        "ax.set_xlabel ('Population')\n",
        "ax.set_ylabel ('Percentage of Counties')\n",
        "ax.set_title('(source: midwest)')\n",
        "\n",
        "# set x-axis parameters (to look nice)\n",
        "ax.set_xlim(left=0, right=1000000)    # set lowest xtick at 0, max at 1M\n",
        "ticks = ax.get_xticks()\n",
        "labels = ['{:,.0f}'.format(x) for x in ticks]\n",
        "ax.set_xticklabels(labels);  # using the semicolon at the end won't print output"
      ],
      "execution_count": 36,
      "outputs": [
        {
          "output_type": "display_data",
          "data": {
            "image/png": "[encoded data removed]",
            "text/plain": [
              "<Figure size 432x288 with 1 Axes>"
            ]
          },
          "metadata": {
            "tags": []
          }
        }
      ]
    }
  ]
}